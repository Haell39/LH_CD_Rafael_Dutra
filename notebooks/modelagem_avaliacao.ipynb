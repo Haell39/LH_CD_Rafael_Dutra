{
 "cells": [
  {
   "cell_type": "markdown",
   "id": "924dc7017ca64a0f",
   "metadata": {},
   "source": [
    "# Fase 4 & 5: Modelagem e Avaliação"
   ]
  },
  {
   "cell_type": "markdown",
   "id": "c5dccf1553b5410a",
   "metadata": {},
   "source": [
    "### Importações de bibliotecas e carregamento dos dados"
   ]
  },
  {
   "cell_type": "code",
   "execution_count": 2,
   "id": "52843c86e1c3fd12",
   "metadata": {
    "ExecuteTime": {
     "end_time": "2025-09-05T21:38:17.540525Z",
     "start_time": "2025-09-05T21:38:17.536504Z"
    }
   },
   "outputs": [],
   "source": [
    "import os, json\n",
    "import numpy as np\n",
    "import pandas as pd\n",
    "\n",
    "# Modelos\n",
    "from sklearn.model_selection import train_test_split\n",
    "from sklearn.linear_model import LinearRegression, LogisticRegression\n",
    "from sklearn.ensemble import RandomForestRegressor, GradientBoostingRegressor\n",
    "from sklearn.multiclass import OneVsRestClassifier\n",
    "\n",
    "# Métricas\n",
    "from sklearn.metrics import r2_score, mean_absolute_error, mean_squared_error\n",
    "from sklearn.metrics import f1_score, precision_score, recall_score\n",
    "from sklearn.metrics import mean_squared_error\n",
    "\n",
    "# Persistência\n",
    "from joblib import dump\n"
   ]
  },
  {
   "cell_type": "code",
   "execution_count": 3,
   "id": "f6a87db76c38c135",
   "metadata": {
    "ExecuteTime": {
     "end_time": "2025-09-05T21:38:17.748423Z",
     "start_time": "2025-09-05T21:38:17.642030Z"
    }
   },
   "outputs": [],
   "source": [
    "# Paths\n",
    "PROC = \"../data/processed\"\n",
    "MODELS = \"../models\"\n",
    "REPORTS = \"../reports\"\n",
    "\n",
    "os.makedirs(MODELS, exist_ok=True)\n",
    "os.makedirs(REPORTS, exist_ok=True)\n",
    "\n",
    "# Carregar datasets preparados na Fase 3\n",
    "data         = pd.read_csv(f\"{PROC}/imdb_clean.csv\")\n",
    "data_scaled  = pd.read_csv(f\"{PROC}/imdb_clean_scaled.csv\")\n",
    "data_tfidf   = pd.read_csv(f\"{PROC}/imdb_clean_tfidf.csv\")\n",
    "data_svd     = pd.read_csv(f\"{PROC}/imdb_clean_svd.csv\")\n",
    "data_mean    = pd.read_csv(f\"{PROC}/imdb_clean_mean.csv\")"
   ]
  },
  {
   "cell_type": "code",
   "execution_count": 4,
   "id": "58333b4f23e6fd",
   "metadata": {
    "ExecuteTime": {
     "end_time": "2025-09-05T21:38:17.856649Z",
     "start_time": "2025-09-05T21:38:17.851324Z"
    }
   },
   "outputs": [
    {
     "name": "stdout",
     "output_type": "stream",
     "text": [
      "Datasets carregados\n"
     ]
    }
   ],
   "source": [
    "# Carregar features.json para saber exatamente os nomes de colunas\n",
    "with open(f\"{PROC}/features.json\", \"r\") as f:\n",
    "    FEATS = json.load(f)\n",
    "\n",
    "print(\"Datasets carregados\")"
   ]
  },
  {
   "cell_type": "markdown",
   "id": "76cfd242612b6329",
   "metadata": {},
   "source": [
    "### Descobrir colunas de gênero e TF-IDF"
   ]
  },
  {
   "cell_type": "code",
   "execution_count": 5,
   "id": "a28d3682fb880538",
   "metadata": {
    "ExecuteTime": {
     "end_time": "2025-09-05T21:38:17.984703Z",
     "start_time": "2025-09-05T21:38:17.979698Z"
    }
   },
   "outputs": [],
   "source": [
    "def infer_label_cols_from_genre(df):\n",
    "    # Função auxiliar --> quais colunas do DataFrame correspondem aos rótulos de gênero (one-hot encoded).\n",
    "    # Encontra todos os gêneros únicos a partir da coluna 'Genre' original\n",
    "    all_genres = set()\n",
    "    for genre_list in df[\"Genre\"].dropna():\n",
    "        all_genres.update([s.strip() for s in genre_list.split(\",\")])\n",
    "\n",
    "    # verificação de quais colunas do DataFrame correspondem a esses gêneros e são colunas binárias\n",
    "    label_columns = []\n",
    "    for col in df.columns:\n",
    "        if col in all_genres:\n",
    "            # checar se a coluna é binária\n",
    "            is_binary = df[col].dropna().unique().tolist()\n",
    "            if set(is_binary).issubset({0, 1}):\n",
    "                label_columns.append(col)\n",
    "    return sorted(label_columns)\n"
   ]
  },
  {
   "cell_type": "code",
   "execution_count": 6,
   "id": "42a19add0e1cb243",
   "metadata": {
    "ExecuteTime": {
     "end_time": "2025-09-05T21:38:18.116291Z",
     "start_time": "2025-09-05T21:38:18.107164Z"
    }
   },
   "outputs": [
    {
     "name": "stdout",
     "output_type": "stream",
     "text": [
      "Colunas de gênero (multi-label) identificadas: 21\n",
      "['Action', 'Adventure', 'Animation', 'Biography', 'Comedy', 'Crime', 'Drama', 'Family', 'Fantasy', 'Film-Noir', 'History', 'Horror', 'Music', 'Musical', 'Mystery', 'Romance', 'Sci-Fi', 'Sport', 'Thriller', 'War', 'Western']\n",
      "\n",
      "Total de colunas TF-IDF identificadas: 500\n"
     ]
    }
   ],
   "source": [
    "# Identificar as colunas de gênero no dataset principal\n",
    "label_cols = infer_label_cols_from_genre(data)\n",
    "print(f\"Colunas de gênero (multi-label) identificadas: {len(label_cols)}\")\n",
    "print(label_cols)\n",
    "\n",
    "# Identificar as colunas TF-IDF\n",
    "tfidf_cols = sorted(list(set(FEATS[\"data_tfidf\"]) - set(FEATS[\"data\"])))\n",
    "print(f\"\\nTotal de colunas TF-IDF identificadas: {len(tfidf_cols)}\")"
   ]
  },
  {
   "cell_type": "markdown",
   "id": "1f80c9807712194",
   "metadata": {},
   "source": [
    "### Regressão para Gross"
   ]
  },
  {
   "cell_type": "code",
   "execution_count": 7,
   "id": "6c0a49bb46fdd936",
   "metadata": {
    "ExecuteTime": {
     "end_time": "2025-09-05T21:38:18.248504Z",
     "start_time": "2025-09-05T21:38:18.241411Z"
    }
   },
   "outputs": [
    {
     "name": "stdout",
     "output_type": "stream",
     "text": [
      "--- Iniciando a Regressão para 'Gross' com Otimização (GridSearchCV) ---\n",
      "Dados divididos em 664 amostras de treino e 166 de teste.\n"
     ]
    }
   ],
   "source": [
    "# imports pro XGBoost e GridSearchCV\n",
    "import xgboost as xgb\n",
    "from sklearn.model_selection import GridSearchCV\n",
    "\n",
    "print(\"--- Iniciando a Regressão para 'Gross' com Otimização (GridSearchCV) ---\")\n",
    "\n",
    "# TARGET E FEATURES\n",
    "target_gross = \"Gross\"\n",
    "\n",
    "Xg = data.select_dtypes(include=np.number).copy()\n",
    "Xg = Xg.drop(columns=[target_gross], errors='ignore') # o alvo é removido\n",
    "\n",
    "yg = data[target_gross].values\n",
    "\n",
    "# treino e teste\n",
    "Xg_train, Xg_test, yg_train, yg_test = train_test_split(Xg, yg, test_size=0.2, random_state=42)\n",
    "print(f\"Dados divididos em {len(Xg_train)} amostras de treino e {len(Xg_test)} de teste.\")"
   ]
  },
  {
   "cell_type": "code",
   "execution_count": 8,
   "id": "9bafc8dc135772b0",
   "metadata": {
    "ExecuteTime": {
     "end_time": "2025-09-05T21:38:18.383850Z",
     "start_time": "2025-09-05T21:38:18.379524Z"
    }
   },
   "outputs": [],
   "source": [
    "#  otimizaçaõ de hiperparametros\n",
    "param_grid = {\n",
    "    'n_estimators': [300, 500],\n",
    "    'max_depth': [3, 5, 7],\n",
    "    'learning_rate': [0.05, 0.1],\n",
    "    'subsample': [0.7, 1.0]\n",
    "}\n",
    "\n",
    "# Instanciamos o modelo base\n",
    "xgb_model = xgb.XGBRegressor(random_state=42, n_jobs=-1)\n",
    "\n",
    "# cv=3 --> 3 folds para cada combinação\n",
    "grid_search = GridSearchCV(\n",
    "    estimator=xgb_model,\n",
    "    param_grid=param_grid,\n",
    "    scoring='r2',\n",
    "    cv=3,\n",
    "    verbose=1 # progresso do treinamento\n",
    ")"
   ]
  },
  {
   "cell_type": "code",
   "execution_count": 9,
   "id": "2c047b121db793d",
   "metadata": {
    "ExecuteTime": {
     "end_time": "2025-09-05T21:38:34.578869Z",
     "start_time": "2025-09-05T21:38:18.522479Z"
    }
   },
   "outputs": [
    {
     "name": "stdout",
     "output_type": "stream",
     "text": [
      "\n",
      "Iniciando a busca pelos melhores parâmetros (GridSearchCV)...\n",
      "Fitting 3 folds for each of 24 candidates, totalling 72 fits\n",
      "\n",
      "Busca concluída.\n",
      "Melhores parâmetros encontrados: {'learning_rate': 0.05, 'max_depth': 5, 'n_estimators': 300, 'subsample': 0.7}\n"
     ]
    }
   ],
   "source": [
    "print(\"\\nIniciando a busca pelos melhores parâmetros (GridSearchCV)...\")\n",
    "grid_search.fit(Xg_train, yg_train)\n",
    "\n",
    "print(\"\\nBusca concluída.\")\n",
    "print(f\"Melhores parâmetros encontrados: {grid_search.best_params_}\")\n",
    "\n",
    "# melhor modelo já treinado:\n",
    "best_xgb_gross = grid_search.best_estimator_"
   ]
  },
  {
   "cell_type": "code",
   "execution_count": 10,
   "id": "aaf819a858034924",
   "metadata": {
    "ExecuteTime": {
     "end_time": "2025-09-05T21:38:34.754938Z",
     "start_time": "2025-09-05T21:38:34.743482Z"
    }
   },
   "outputs": [
    {
     "name": "stdout",
     "output_type": "stream",
     "text": [
      "\n",
      "Avaliando o modelo otimizado...\n",
      "\n",
      "[Resultado Gross Otimizado] R²=0.616 | MAE=39,096,722.91 | RMSE=64,106,900.27\n"
     ]
    }
   ],
   "source": [
    "# avaliação do modelo otimizado\n",
    "print(\"\\nAvaliando o modelo otimizado...\")\n",
    "pred = best_xgb_gross.predict(Xg_test)\n",
    "\n",
    "r2 = r2_score(yg_test, pred)\n",
    "mae = mean_absolute_error(yg_test, pred)\n",
    "rmse = np.sqrt(mean_squared_error(yg_test, pred))\n",
    "\n",
    "print(f\"\\n[Resultado Gross Otimizado] R²={r2:.3f} | MAE={mae:,.2f} | RMSE={rmse:,.2f}\")"
   ]
  },
  {
   "cell_type": "code",
   "execution_count": 11,
   "id": "12750719c54c2c47",
   "metadata": {
    "ExecuteTime": {
     "end_time": "2025-09-06T00:57:36.757164Z",
     "start_time": "2025-09-06T00:57:36.740959Z"
    }
   },
   "outputs": [
    {
     "name": "stdout",
     "output_type": "stream",
     "text": [
      "\n",
      "Top 15 fatores para Gross (modelo otimizado):\n",
      "        feature  importance\n",
      "1     Adventure    0.310402\n",
      "18  No_of_Votes    0.127449\n",
      "14    Movie_Age    0.065129\n",
      "7        Family    0.046099\n",
      "0        Action    0.042734\n",
      "12  IMDB_Rating    0.037704\n",
      "21      Runtime    0.036583\n",
      "22       Sci-Fi    0.032429\n",
      "2     Animation    0.031974\n",
      "8       Fantasy    0.031125\n",
      "6         Drama    0.028520\n",
      "13   Meta_score    0.026093\n",
      "26      Western    0.024234\n",
      "5         Crime    0.020366\n",
      "4        Comedy    0.018717\n",
      "\n",
      "Modelo otimizado 'modelo_faturamento.pkl' salvo na pasta '../models' ✔️\n"
     ]
    }
   ],
   "source": [
    "#  importancia das features\n",
    "imp = pd.DataFrame({\n",
    "    \"feature\": Xg.columns,\n",
    "    \"importance\": best_xgb_gross.feature_importances_\n",
    "}).sort_values(\"importance\", ascending=False)\n",
    "\n",
    "imp.to_csv(f\"{REPORTS}/feature_importance_gross_optimized.csv\", index=False)\n",
    "print(\"\\nTop 15 fatores para Gross (modelo otimizado):\")\n",
    "print(imp.head(15))\n",
    "\n",
    "# salvar\n",
    "dump(best_xgb_gross, f\"{MODELS}/modelo_faturamento.pkl\")\n",
    "print(f\"\\nModelo otimizado 'modelo_faturamento.pkl' salvo na pasta '{MODELS}' ✔️\")"
   ]
  },
  {
   "cell_type": "markdown",
   "id": "90d7b1107f21b3a3",
   "metadata": {},
   "source": [
    "### Classificação multi-rótulo de Gênero via Overview"
   ]
  },
  {
   "cell_type": "code",
   "execution_count": 12,
   "id": "9879e4dbf0ca89e4",
   "metadata": {
    "ExecuteTime": {
     "end_time": "2025-09-05T21:47:03.923763Z",
     "start_time": "2025-09-05T21:47:03.909874Z"
    }
   },
   "outputs": [
    {
     "name": "stdout",
     "output_type": "stream",
     "text": [
      "--- Rodando o melhor modelo para Classificação de Gênero (Regressão Logística) ---\n",
      "Dados divididos em 664 amostras de treino e 166 de teste.\n"
     ]
    }
   ],
   "source": [
    "# Importando a Regressão Logística\n",
    "from sklearn.linear_model import LogisticRegression\n",
    "\n",
    "print(\"--- Rodando o melhor modelo para Classificação de Gênero (Regressão Logística) ---\")\n",
    "\n",
    "# target e features\n",
    "Xt = data_tfidf[tfidf_cols].copy()\n",
    "Yt = data[label_cols].copy()\n",
    "\n",
    "# divisão treino/teste\n",
    "Xt_train, Xt_test, Yt_train, Yt_test = train_test_split(Xt, Yt, test_size=0.2, random_state=42)\n",
    "print(f\"Dados divididos em {len(Xt_train)} amostras de treino e {len(Xt_test)} de teste.\")"
   ]
  },
  {
   "cell_type": "code",
   "execution_count": 13,
   "id": "bf625ca5c3eecbca",
   "metadata": {
    "ExecuteTime": {
     "end_time": "2025-09-05T21:47:22.305165Z",
     "start_time": "2025-09-05T21:47:22.176666Z"
    }
   },
   "outputs": [
    {
     "name": "stdout",
     "output_type": "stream",
     "text": [
      "\n",
      "Treinando o modelo...\n",
      "Treinamento concluído.\n"
     ]
    }
   ],
   "source": [
    "# One-vs-Rest com Regressão Logística\n",
    "print(\"\\nTreinando o modelo...\")\n",
    "clf_genre_logreg = OneVsRestClassifier(\n",
    "    LogisticRegression(max_iter=1000, solver=\"liblinear\", class_weight=\"balanced\")\n",
    ")\n",
    "clf_genre_logreg.fit(Xt_train, Yt_train)\n",
    "print(\"Treinamento concluído.\")"
   ]
  },
  {
   "cell_type": "code",
   "execution_count": 14,
   "id": "41499c54c161f8df",
   "metadata": {
    "ExecuteTime": {
     "end_time": "2025-09-06T00:57:31.965754Z",
     "start_time": "2025-09-06T00:57:31.881243Z"
    }
   },
   "outputs": [
    {
     "name": "stdout",
     "output_type": "stream",
     "text": [
      "\n",
      "Avaliando o modelo...\n",
      "\n",
      "[Resultado Gêneros com Regressão Logística] F1-micro=0.319 | F1-macro=0.201 | Precision-micro=0.301 | Recall-micro=0.340\n",
      "\n",
      "Melhor modelo de gêneros ('modelo_genero.pkl') salvo na pasta '../models' ✔️\n"
     ]
    }
   ],
   "source": [
    "# avaliacao\n",
    "print(\"\\nAvaliando o modelo...\")\n",
    "Yt_pred = clf_genre_logreg.predict(Xt_test)\n",
    "\n",
    "f1_micro  = f1_score(Yt_test, Yt_pred, average='micro', zero_division=0)\n",
    "f1_macro  = f1_score(Yt_test, Yt_pred, average='macro', zero_division=0)\n",
    "prec_micro = precision_score(Yt_test, Yt_pred, average='micro', zero_division=0)\n",
    "rec_micro  = recall_score(Yt_test, Yt_pred, average='micro', zero_division=0)\n",
    "\n",
    "print(f\"\\n[Resultado Gêneros com Regressão Logística] F1-micro={f1_micro:.3f} | F1-macro={f1_macro:.3f} | Precision-micro={prec_micro:.3f} | Recall-micro={rec_micro:.3f}\")\n",
    "\n",
    "# salvar\n",
    "dump(clf_genre_logreg, f\"{MODELS}/modelo_genero.pkl\")\n",
    "print(f\"\\nMelhor modelo de gêneros ('modelo_genero.pkl') salvo na pasta '{MODELS}' ✔️\")"
   ]
  },
  {
   "cell_type": "markdown",
   "id": "4588732b3666ee9c",
   "metadata": {},
   "source": [
    "### Regressão para IMDb Rating"
   ]
  },
  {
   "cell_type": "code",
   "execution_count": 15,
   "id": "eeaf2a546f3f9cab",
   "metadata": {
    "ExecuteTime": {
     "end_time": "2025-09-06T00:22:20.509435Z",
     "start_time": "2025-09-06T00:22:20.173867Z"
    }
   },
   "outputs": [
    {
     "name": "stdout",
     "output_type": "stream",
     "text": [
      "--- Iniciando a Regressão para 'IMDB_Rating' com Otimização ---\n",
      "Dados divididos em 664 amostras de treino e 166 de teste.\n"
     ]
    }
   ],
   "source": [
    "# Importando as ferramentas necessárias\n",
    "import xgboost as xgb\n",
    "from sklearn.model_selection import GridSearchCV\n",
    "\n",
    "print(\"--- Iniciando a Regressão para 'IMDB_Rating' com Otimização ---\")\n",
    "\n",
    "# target e features\n",
    "target_rating = \"IMDB_Rating\"\n",
    "\n",
    "# para garantir que o XGBoost não receba colunas de texto.\n",
    "Xr = data_scaled.select_dtypes(include=np.number).copy()\n",
    "Xr = Xr.drop(columns=[target_rating], errors='ignore')\n",
    "\n",
    "yr = data_scaled[target_rating].values\n",
    "\n",
    "# treino e teste\n",
    "Xr_train, Xr_test, yr_train, yr_test = train_test_split(Xr, yr, test_size=0.2, random_state=42)\n",
    "print(f\"Dados divididos em {len(Xr_train)} amostras de treino e {len(Xr_test)} de teste.\")"
   ]
  },
  {
   "cell_type": "code",
   "execution_count": 16,
   "id": "c77a0abbf17a8984",
   "metadata": {
    "ExecuteTime": {
     "end_time": "2025-09-06T00:22:45.457303Z",
     "start_time": "2025-09-06T00:22:38.589183Z"
    }
   },
   "outputs": [
    {
     "name": "stdout",
     "output_type": "stream",
     "text": [
      "\n",
      "Iniciando a busca pelos melhores parâmetros (GridSearchCV)... (Isso pode levar alguns minutos)\n",
      "Fitting 3 folds for each of 16 candidates, totalling 48 fits\n",
      "\n",
      "Busca concluída.\n",
      "Melhores parâmetros encontrados: {'learning_rate': 0.05, 'max_depth': 3, 'n_estimators': 200, 'subsample': 0.7}\n"
     ]
    }
   ],
   "source": [
    "# otimização\n",
    "# \"grid\" de parâmetros para o XGBoost testar\n",
    "param_grid_rating = {\n",
    "    'n_estimators': [200, 400],\n",
    "    'max_depth': [3, 5],\n",
    "    'learning_rate': [0.05, 0.1],\n",
    "    'subsample': [0.7, 1.0]\n",
    "}\n",
    "\n",
    "# Instanciar o modelo base\n",
    "xgb_rating_model = xgb.XGBRegressor(random_state=42, n_jobs=-1)\n",
    "\n",
    "# Instanciar o GridSearchCV\n",
    "grid_search_rating = GridSearchCV(\n",
    "    estimator=xgb_rating_model,\n",
    "    param_grid=param_grid_rating,\n",
    "    scoring='r2', # Otimizaremos para o R²\n",
    "    cv=3,\n",
    "    verbose=1\n",
    ")\n",
    "\n",
    "print(\"\\nIniciando a busca pelos melhores parâmetros (GridSearchCV)... (Isso pode levar alguns minutos)\")\n",
    "grid_search_rating.fit(Xr_train, yr_train)\n",
    "\n",
    "print(\"\\nBusca concluída.\")\n",
    "print(f\"Melhores parâmetros encontrados: {grid_search_rating.best_params_}\")\n",
    "\n",
    "# O melhor modelo é salvo aqui\n",
    "best_xgb_rating = grid_search_rating.best_estimator_"
   ]
  },
  {
   "cell_type": "code",
   "execution_count": 17,
   "id": "30c63d2a022711dd",
   "metadata": {
    "ExecuteTime": {
     "end_time": "2025-09-06T00:57:24.086348Z",
     "start_time": "2025-09-06T00:57:24.067347Z"
    }
   },
   "outputs": [
    {
     "name": "stdout",
     "output_type": "stream",
     "text": [
      "\n",
      "Avaliando o modelo otimizado...\n",
      "\n",
      "[Resultado IMDb Rating Otimizado] R²=0.631 | MAE=0.137 | RMSE=0.177\n",
      "\n",
      "Modelo otimizado 'modelo_nota_imdb.pkl' salvo na pasta '../models' ✔️\n"
     ]
    }
   ],
   "source": [
    "# avaliacao do modelo otimizado\n",
    "print(\"\\nAvaliando o modelo otimizado...\")\n",
    "pred_rating = best_xgb_rating.predict(Xr_test)\n",
    "\n",
    "r2 = r2_score(yr_test, pred_rating)\n",
    "mae = mean_absolute_error(yr_test, pred_rating)\n",
    "rmse = np.sqrt(mean_squared_error(yr_test, pred_rating))\n",
    "\n",
    "print(f\"\\n[Resultado IMDb Rating Otimizado] R²={r2:.3f} | MAE={mae:.3f} | RMSE={rmse:.3f}\")\n",
    "\n",
    "# salvar modelo\n",
    "dump(best_xgb_rating, f\"{MODELS}/modelo_nota_imdb.pkl\")\n",
    "print(f\"\\nModelo otimizado 'modelo_nota_imdb.pkl' salvo na pasta '{MODELS}' ✔️\")"
   ]
  },
  {
   "cell_type": "markdown",
   "id": "b1f0e40ce271e825",
   "metadata": {},
   "source": [
    "### Previsão Específica"
   ]
  },
  {
   "cell_type": "code",
   "execution_count": 18,
   "id": "206fce4c2bab0d03",
   "metadata": {
    "ExecuteTime": {
     "end_time": "2025-09-06T02:49:05.164935Z",
     "start_time": "2025-09-06T02:49:05.153471Z"
    }
   },
   "outputs": [
    {
     "name": "stdout",
     "output_type": "stream",
     "text": [
      "Modelo '../models/modelo_nota_imdb.pkl' carregado com sucesso.\n"
     ]
    }
   ],
   "source": [
    "from joblib import load\n",
    "import pandas as pd\n",
    "import numpy as np\n",
    "\n",
    "# Carregar o modelo otimizado\n",
    "model_path = f\"{MODELS}/modelo_nota_imdb.pkl\"\n",
    "loaded_model = load(model_path)\n",
    "print(f\"Modelo '{model_path}' carregado com sucesso.\")\n",
    "\n",
    "expected_features = Xr.columns.tolist()\n",
    "genre_cols_in_model = label_cols\n",
    "\n",
    "# Dados do filme de exemplo\n",
    "shawshank_data = {\n",
    "    'Released_Year': 1994,\n",
    "    'Runtime': 142,\n",
    "    'Meta_score': 80.0,\n",
    "    'No_of_Votes': 2343110,\n",
    "    'Gross': 28341469.0,\n",
    "    'Genre_str': 'Drama'\n",
    "}"
   ]
  },
  {
   "cell_type": "code",
   "execution_count": 19,
   "id": "8d1aba7b077d9a20",
   "metadata": {
    "ExecuteTime": {
     "end_time": "2025-09-06T02:49:15.604271Z",
     "start_time": "2025-09-06T02:49:15.593792Z"
    }
   },
   "outputs": [],
   "source": [
    "# DataFrame de uma linha para a previsão\n",
    "prediction_df = pd.DataFrame([shawshank_data])\n",
    "\n",
    "\n",
    "# +++ a feature 'Movie_Age'\n",
    "latest_year = 2025 # O ano de referência que você usou\n",
    "prediction_df['Movie_Age'] = latest_year - prediction_df['Released_Year']\n",
    "\n",
    "for genre_name in genre_cols_in_model:\n",
    "    # O nome da coluna é o próprio nome do gênero\n",
    "    if genre_name in prediction_df['Genre_str'].iloc[0]:\n",
    "        prediction_df[genre_name] = 1\n",
    "    else:\n",
    "        prediction_df[genre_name] = 0\n",
    "\n",
    "# garantir que o DataFrame de previsão tenha exatamente as mesmas colunas e na mesma ordem\n",
    "prediction_df = prediction_df[expected_features]"
   ]
  },
  {
   "cell_type": "code",
   "execution_count": 20,
   "id": "151ee5958dad2fd5",
   "metadata": {
    "ExecuteTime": {
     "end_time": "2025-09-06T02:50:37.082348Z",
     "start_time": "2025-09-06T02:50:37.071342Z"
    }
   },
   "outputs": [
    {
     "name": "stdout",
     "output_type": "stream",
     "text": [
      "--- PREVISÃO FINAL PARA O DESAFIO ---\n",
      "Filme: The Shawshank Redemption (1994)\n",
      "Nota IMDB Prevista: 9.06\n"
     ]
    }
   ],
   "source": [
    "# Fazer a previsão final\n",
    "predicted_rating = loaded_model.predict(prediction_df)\n",
    "\n",
    "print(\"--- PREVISÃO FINAL PARA O DESAFIO ---\")\n",
    "print(f\"Filme: The Shawshank Redemption (1994)\")\n",
    "print(f\"Nota IMDB Prevista: {predicted_rating[0]:.2f}\")"
   ]
  }
 ],
 "metadata": {
  "kernelspec": {
   "display_name": ".venv",
   "language": "python",
   "name": "python3"
  },
  "language_info": {
   "codemirror_mode": {
    "name": "ipython",
    "version": 3
   },
   "file_extension": ".py",
   "mimetype": "text/x-python",
   "name": "python",
   "nbconvert_exporter": "python",
   "pygments_lexer": "ipython3",
   "version": "3.11.0"
  }
 },
 "nbformat": 4,
 "nbformat_minor": 5
}
