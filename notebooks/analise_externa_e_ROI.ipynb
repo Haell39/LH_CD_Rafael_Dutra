{
 "cells": [
  {
   "cell_type": "markdown",
   "id": "a38ea2e659a5129b",
   "metadata": {},
   "source": [
    "# Fase extra:"
   ]
  },
  {
   "cell_type": "markdown",
   "id": "f04bb910c2178e49",
   "metadata": {},
   "source": [
    "### Importações de bibliotecas e carregamento dos dados"
   ]
  },
  {
   "cell_type": "code",
   "execution_count": 2,
   "id": "initial_id",
   "metadata": {
    "ExecuteTime": {
     "end_time": "2025-09-06T19:23:26.407737Z",
     "start_time": "2025-09-06T19:23:24.987423Z"
    },
    "collapsed": true
   },
   "outputs": [
    {
     "name": "stdout",
     "output_type": "stream",
     "text": [
      "Carregando os datasets...\n",
      "Datasets carregados com sucesso !!\n"
     ]
    }
   ],
   "source": [
    "import pandas as pd\n",
    "import numpy as np\n",
    "\n",
    "# carregando dados\n",
    "print(\"Carregando os datasets...\")\n",
    "original_path = '../data/raw/desafio_indicium_imdb.csv'\n",
    "budget_path = '../data/external_data/tmdb_5000_movies.csv'\n",
    "cpi_path = '../data/external_data/cpi_data.csv'\n",
    "\n",
    "# Carregando os datasets\n",
    "df_original = pd.read_csv(original_path)\n",
    "df_original = df_original.iloc[:, 1:] # remocao da coluna de índice\n",
    "\n",
    "df_budget = pd.read_csv(budget_path)\n",
    "df_cpi = pd.read_csv(cpi_path)\n",
    "print(\"Datasets carregados com sucesso !!\")"
   ]
  },
  {
   "cell_type": "markdown",
   "id": "e72dd2ccb27c0937",
   "metadata": {},
   "source": [
    "### INTEGRAÇÃO DOS DADOS"
   ]
  },
  {
   "cell_type": "code",
   "execution_count": 3,
   "id": "833323cb340a9492",
   "metadata": {
    "ExecuteTime": {
     "end_time": "2025-09-06T19:23:26.530155Z",
     "start_time": "2025-09-06T19:23:26.457326Z"
    }
   },
   "outputs": [
    {
     "name": "stdout",
     "output_type": "stream",
     "text": [
      "\n",
      "Integrando dataset de orçamento...\n",
      "424 de 999 filmes tiveram um orçamento correspondente.\n"
     ]
    }
   ],
   "source": [
    "print(\"\\nIntegrando dataset de orçamento...\")\n",
    "# Juntando o dataset original com o de orçamento pelo título do filme\n",
    "df_merged = pd.merge(df_original, df_budget[['title', 'budget']], left_on='Series_Title', right_on='title', how='left')\n",
    "\n",
    "# Limpando o novo dataframe\n",
    "df_merged = df_merged.drop(columns=['title'])\n",
    "#  valor 0 --> NaN.\n",
    "df_merged['budget'] = df_merged['budget'].replace(0, np.nan)\n",
    "\n",
    "print(f\"{df_merged['budget'].notna().sum()} de {len(df_merged)} filmes tiveram um orçamento correspondente.\")"
   ]
  },
  {
   "cell_type": "markdown",
   "id": "7ca72e9a47f381f4",
   "metadata": {},
   "source": [
    "### AJUSTE PELA INFLAÇÃO E CÁLCULO DO ROI"
   ]
  },
  {
   "cell_type": "code",
   "execution_count": 4,
   "id": "2b4d8605ab00e26",
   "metadata": {
    "ExecuteTime": {
     "end_time": "2025-09-06T19:23:27.255559Z",
     "start_time": "2025-09-06T19:23:27.243615Z"
    }
   },
   "outputs": [
    {
     "name": "stdout",
     "output_type": "stream",
     "text": [
      "\n",
      "Iniciando cálculo de ROI e ajuste pela inflação...\n"
     ]
    }
   ],
   "source": [
    "print(\"\\nIniciando cálculo de ROI e ajuste pela inflação...\")\n",
    "\n",
    "# Limpeza das colunas monetárias e de ano\n",
    "df_merged['Gross'] = pd.to_numeric(df_merged['Gross'].astype(str).str.replace(',', ''), errors='coerce')\n",
    "df_merged['Released_Year'] = pd.to_numeric(df_merged['Released_Year'], errors='coerce')\n",
    "df_merged.dropna(subset=['Released_Year'], inplace=True)\n",
    "df_merged['Released_Year'] = df_merged['Released_Year'].astype(int)\n",
    "\n",
    "# Função para ajustar um valor monetário para dólares de 2024\n",
    "def adjust_for_inflation(row, column_name, cpi_df):\n",
    "    year = row['Released_Year']\n",
    "    value = row[column_name]\n",
    "\n",
    "    if pd.isna(value) or not (cpi_df['Year'].min() <= year <= cpi_df['Year'].max()):\n",
    "        return np.nan\n",
    "\n",
    "    cpi_movie_year = cpi_df.loc[cpi_df['Year'] == year, 'CPI'].iloc[0]\n",
    "    cpi_current_year = cpi_df.loc[cpi_df['Year'] == 2024, 'CPI'].iloc[0]\n",
    "\n",
    "    inflation_ratio = cpi_current_year / cpi_movie_year\n",
    "    return value * inflation_ratio\n"
   ]
  },
  {
   "cell_type": "code",
   "execution_count": 5,
   "id": "97e928d10908d6df",
   "metadata": {
    "ExecuteTime": {
     "end_time": "2025-09-06T19:23:27.980642Z",
     "start_time": "2025-09-06T19:23:27.381637Z"
    }
   },
   "outputs": [
    {
     "name": "stdout",
     "output_type": "stream",
     "text": [
      "Cálculos finalizados.\n"
     ]
    }
   ],
   "source": [
    "# Aplicando a função para criar as colunas ajustadas\n",
    "df_merged['Gross_Adjusted'] = df_merged.apply(lambda row: adjust_for_inflation(row, 'Gross', df_cpi), axis=1)\n",
    "df_merged['Budget_Adjusted'] = df_merged.apply(lambda row: adjust_for_inflation(row, 'budget', df_cpi), axis=1)\n",
    "\n",
    "# ROI = (Lucro / Custo) = (Faturamento - Orçamento) / Orçamento\n",
    "df_merged['ROI'] = (df_merged['Gross_Adjusted'] - df_merged['Budget_Adjusted']) / df_merged['Budget_Adjusted']\n",
    "print(\"Cálculos finalizados.\")"
   ]
  },
  {
   "cell_type": "markdown",
   "id": "6a0384d22f7a1c92",
   "metadata": {},
   "source": [
    "### VISUALIZAÇÃO DOS RESULTADOS"
   ]
  },
  {
   "cell_type": "code",
   "execution_count": 6,
   "id": "69324779d9a86878",
   "metadata": {
    "ExecuteTime": {
     "end_time": "2025-09-06T19:23:28.044139Z",
     "start_time": "2025-09-06T19:23:28.016003Z"
    }
   },
   "outputs": [
    {
     "name": "stdout",
     "output_type": "stream",
     "text": [
      "\n",
      "==================================================\n",
      "--- Análise Final com Dados Externos ---\n",
      "\n",
      "Top 10 Filmes por Retorno sobre o Investimento (ROI):\n"
     ]
    },
    {
     "data": {
      "text/html": [
       "<div>\n",
       "<style scoped>\n",
       "    .dataframe tbody tr th:only-of-type {\n",
       "        vertical-align: middle;\n",
       "    }\n",
       "\n",
       "    .dataframe tbody tr th {\n",
       "        vertical-align: top;\n",
       "    }\n",
       "\n",
       "    .dataframe thead th {\n",
       "        text-align: right;\n",
       "    }\n",
       "</style>\n",
       "<table border=\"1\" class=\"dataframe\">\n",
       "  <thead>\n",
       "    <tr style=\"text-align: right;\">\n",
       "      <th></th>\n",
       "      <th>Series_Title</th>\n",
       "      <th>Released_Year</th>\n",
       "      <th>Gross</th>\n",
       "      <th>Gross_Adjusted</th>\n",
       "      <th>Budget_Original</th>\n",
       "      <th>Budget_Adjusted</th>\n",
       "      <th>ROI</th>\n",
       "    </tr>\n",
       "  </thead>\n",
       "  <tbody>\n",
       "    <tr>\n",
       "      <th>50</th>\n",
       "      <td>Modern Times</td>\n",
       "      <td>1936</td>\n",
       "      <td>163245.0</td>\n",
       "      <td>3.684040e+06</td>\n",
       "      <td>1.0</td>\n",
       "      <td>2.256755e+01</td>\n",
       "      <td>163244.000000</td>\n",
       "    </tr>\n",
       "    <tr>\n",
       "      <th>843</th>\n",
       "      <td>Halloween</td>\n",
       "      <td>1978</td>\n",
       "      <td>47000000.0</td>\n",
       "      <td>2.261255e+08</td>\n",
       "      <td>300000.0</td>\n",
       "      <td>1.443354e+06</td>\n",
       "      <td>155.666667</td>\n",
       "    </tr>\n",
       "    <tr>\n",
       "      <th>278</th>\n",
       "      <td>Rocky</td>\n",
       "      <td>1976</td>\n",
       "      <td>117235247.0</td>\n",
       "      <td>6.463165e+08</td>\n",
       "      <td>1000000.0</td>\n",
       "      <td>5.512988e+06</td>\n",
       "      <td>116.235247</td>\n",
       "    </tr>\n",
       "    <tr>\n",
       "      <th>815</th>\n",
       "      <td>Clerks</td>\n",
       "      <td>1994</td>\n",
       "      <td>3151130.0</td>\n",
       "      <td>6.669871e+06</td>\n",
       "      <td>27000.0</td>\n",
       "      <td>5.714982e+04</td>\n",
       "      <td>115.708519</td>\n",
       "    </tr>\n",
       "    <tr>\n",
       "      <th>616</th>\n",
       "      <td>Once</td>\n",
       "      <td>2007</td>\n",
       "      <td>9439923.0</td>\n",
       "      <td>1.428461e+07</td>\n",
       "      <td>160000.0</td>\n",
       "      <td>2.421140e+05</td>\n",
       "      <td>57.999519</td>\n",
       "    </tr>\n",
       "    <tr>\n",
       "      <th>313</th>\n",
       "      <td>Gone with the Wind</td>\n",
       "      <td>1939</td>\n",
       "      <td>198676459.0</td>\n",
       "      <td>4.483642e+09</td>\n",
       "      <td>4000000.0</td>\n",
       "      <td>9.027022e+07</td>\n",
       "      <td>48.669115</td>\n",
       "    </tr>\n",
       "    <tr>\n",
       "      <th>931</th>\n",
       "      <td>Saw</td>\n",
       "      <td>2004</td>\n",
       "      <td>56000369.0</td>\n",
       "      <td>9.299470e+07</td>\n",
       "      <td>1200000.0</td>\n",
       "      <td>1.992731e+06</td>\n",
       "      <td>45.666974</td>\n",
       "    </tr>\n",
       "    <tr>\n",
       "      <th>847</th>\n",
       "      <td>Blazing Saddles</td>\n",
       "      <td>1974</td>\n",
       "      <td>119500000.0</td>\n",
       "      <td>7.603618e+08</td>\n",
       "      <td>2600000.0</td>\n",
       "      <td>1.654344e+07</td>\n",
       "      <td>44.961538</td>\n",
       "    </tr>\n",
       "    <tr>\n",
       "      <th>687</th>\n",
       "      <td>E.T. the Extra-Terrestrial</td>\n",
       "      <td>1982</td>\n",
       "      <td>435110554.0</td>\n",
       "      <td>1.414398e+09</td>\n",
       "      <td>10500000.0</td>\n",
       "      <td>3.413196e+07</td>\n",
       "      <td>40.439100</td>\n",
       "    </tr>\n",
       "    <tr>\n",
       "      <th>48</th>\n",
       "      <td>Psycho</td>\n",
       "      <td>1960</td>\n",
       "      <td>32000000.0</td>\n",
       "      <td>3.391232e+08</td>\n",
       "      <td>806948.0</td>\n",
       "      <td>8.551713e+06</td>\n",
       "      <td>38.655591</td>\n",
       "    </tr>\n",
       "    <tr>\n",
       "      <th>16</th>\n",
       "      <td>One Flew Over the Cuckoo's Nest</td>\n",
       "      <td>1975</td>\n",
       "      <td>112000000.0</td>\n",
       "      <td>6.530329e+08</td>\n",
       "      <td>3000000.0</td>\n",
       "      <td>1.749195e+07</td>\n",
       "      <td>36.333333</td>\n",
       "    </tr>\n",
       "    <tr>\n",
       "      <th>414</th>\n",
       "      <td>Jaws</td>\n",
       "      <td>1975</td>\n",
       "      <td>260000000.0</td>\n",
       "      <td>1.515969e+09</td>\n",
       "      <td>7000000.0</td>\n",
       "      <td>4.081455e+07</td>\n",
       "      <td>36.142857</td>\n",
       "    </tr>\n",
       "    <tr>\n",
       "      <th>874</th>\n",
       "      <td>Fantasia</td>\n",
       "      <td>1940</td>\n",
       "      <td>76408097.0</td>\n",
       "      <td>1.712027e+09</td>\n",
       "      <td>2280000.0</td>\n",
       "      <td>5.108649e+07</td>\n",
       "      <td>32.512323</td>\n",
       "    </tr>\n",
       "    <tr>\n",
       "      <th>416</th>\n",
       "      <td>Young Frankenstein</td>\n",
       "      <td>1974</td>\n",
       "      <td>86300000.0</td>\n",
       "      <td>5.491148e+08</td>\n",
       "      <td>2800000.0</td>\n",
       "      <td>1.781601e+07</td>\n",
       "      <td>29.821429</td>\n",
       "    </tr>\n",
       "    <tr>\n",
       "      <th>28</th>\n",
       "      <td>Star Wars</td>\n",
       "      <td>1977</td>\n",
       "      <td>322740140.0</td>\n",
       "      <td>1.670628e+09</td>\n",
       "      <td>11000000.0</td>\n",
       "      <td>5.694025e+07</td>\n",
       "      <td>28.340013</td>\n",
       "    </tr>\n",
       "    <tr>\n",
       "      <th>418</th>\n",
       "      <td>The Exorcist</td>\n",
       "      <td>1973</td>\n",
       "      <td>232906145.0</td>\n",
       "      <td>1.645498e+09</td>\n",
       "      <td>8000000.0</td>\n",
       "      <td>5.652054e+07</td>\n",
       "      <td>28.113268</td>\n",
       "    </tr>\n",
       "    <tr>\n",
       "      <th>111</th>\n",
       "      <td>The Sting</td>\n",
       "      <td>1973</td>\n",
       "      <td>159600000.0</td>\n",
       "      <td>1.127585e+09</td>\n",
       "      <td>5500000.0</td>\n",
       "      <td>3.885787e+07</td>\n",
       "      <td>28.018182</td>\n",
       "    </tr>\n",
       "    <tr>\n",
       "      <th>993</th>\n",
       "      <td>A Hard Day's Night</td>\n",
       "      <td>1964</td>\n",
       "      <td>13780024.0</td>\n",
       "      <td>1.394401e+08</td>\n",
       "      <td>560000.0</td>\n",
       "      <td>5.666640e+06</td>\n",
       "      <td>23.607186</td>\n",
       "    </tr>\n",
       "    <tr>\n",
       "      <th>390</th>\n",
       "      <td>Sling Blade</td>\n",
       "      <td>1996</td>\n",
       "      <td>24475416.0</td>\n",
       "      <td>4.893352e+07</td>\n",
       "      <td>1000000.0</td>\n",
       "      <td>1.999293e+06</td>\n",
       "      <td>23.475416</td>\n",
       "    </tr>\n",
       "    <tr>\n",
       "      <th>841</th>\n",
       "      <td>Airplane!</td>\n",
       "      <td>1980</td>\n",
       "      <td>83400000.0</td>\n",
       "      <td>3.174959e+08</td>\n",
       "      <td>3500000.0</td>\n",
       "      <td>1.332417e+07</td>\n",
       "      <td>22.828571</td>\n",
       "    </tr>\n",
       "  </tbody>\n",
       "</table>\n",
       "</div>"
      ],
      "text/plain": [
       "                        Series_Title  Released_Year        Gross  \\\n",
       "50                      Modern Times           1936     163245.0   \n",
       "843                        Halloween           1978   47000000.0   \n",
       "278                            Rocky           1976  117235247.0   \n",
       "815                           Clerks           1994    3151130.0   \n",
       "616                             Once           2007    9439923.0   \n",
       "313               Gone with the Wind           1939  198676459.0   \n",
       "931                              Saw           2004   56000369.0   \n",
       "847                  Blazing Saddles           1974  119500000.0   \n",
       "687       E.T. the Extra-Terrestrial           1982  435110554.0   \n",
       "48                            Psycho           1960   32000000.0   \n",
       "16   One Flew Over the Cuckoo's Nest           1975  112000000.0   \n",
       "414                             Jaws           1975  260000000.0   \n",
       "874                         Fantasia           1940   76408097.0   \n",
       "416               Young Frankenstein           1974   86300000.0   \n",
       "28                         Star Wars           1977  322740140.0   \n",
       "418                     The Exorcist           1973  232906145.0   \n",
       "111                        The Sting           1973  159600000.0   \n",
       "993               A Hard Day's Night           1964   13780024.0   \n",
       "390                      Sling Blade           1996   24475416.0   \n",
       "841                        Airplane!           1980   83400000.0   \n",
       "\n",
       "     Gross_Adjusted  Budget_Original  Budget_Adjusted            ROI  \n",
       "50     3.684040e+06              1.0     2.256755e+01  163244.000000  \n",
       "843    2.261255e+08         300000.0     1.443354e+06     155.666667  \n",
       "278    6.463165e+08        1000000.0     5.512988e+06     116.235247  \n",
       "815    6.669871e+06          27000.0     5.714982e+04     115.708519  \n",
       "616    1.428461e+07         160000.0     2.421140e+05      57.999519  \n",
       "313    4.483642e+09        4000000.0     9.027022e+07      48.669115  \n",
       "931    9.299470e+07        1200000.0     1.992731e+06      45.666974  \n",
       "847    7.603618e+08        2600000.0     1.654344e+07      44.961538  \n",
       "687    1.414398e+09       10500000.0     3.413196e+07      40.439100  \n",
       "48     3.391232e+08         806948.0     8.551713e+06      38.655591  \n",
       "16     6.530329e+08        3000000.0     1.749195e+07      36.333333  \n",
       "414    1.515969e+09        7000000.0     4.081455e+07      36.142857  \n",
       "874    1.712027e+09        2280000.0     5.108649e+07      32.512323  \n",
       "416    5.491148e+08        2800000.0     1.781601e+07      29.821429  \n",
       "28     1.670628e+09       11000000.0     5.694025e+07      28.340013  \n",
       "418    1.645498e+09        8000000.0     5.652054e+07      28.113268  \n",
       "111    1.127585e+09        5500000.0     3.885787e+07      28.018182  \n",
       "993    1.394401e+08         560000.0     5.666640e+06      23.607186  \n",
       "390    4.893352e+07        1000000.0     1.999293e+06      23.475416  \n",
       "841    3.174959e+08        3500000.0     1.332417e+07      22.828571  "
      ]
     },
     "metadata": {},
     "output_type": "display_data"
    },
    {
     "name": "stdout",
     "output_type": "stream",
     "text": [
      "==================================================\n"
     ]
    }
   ],
   "source": [
    "print(\"\\n\" + \"=\"*50)\n",
    "print(\"--- Análise Final com Dados Externos ---\")\n",
    "# renomeando colunas para a visualização\n",
    "df_final = df_merged[[\n",
    "    'Series_Title',\n",
    "    'Released_Year',\n",
    "    'Gross',\n",
    "    'Gross_Adjusted',\n",
    "    'budget',\n",
    "    'Budget_Adjusted',\n",
    "    'ROI'\n",
    "]].copy()\n",
    "df_final.rename(columns={'budget': 'Budget_Original'}, inplace=True)\n",
    "\n",
    "# Exibindo os 20 filmes com maior ROI (que possuem dados de orçamento)\n",
    "print(\"\\nTop 10 Filmes por Retorno sobre o Investimento (ROI):\")\n",
    "display(df_final.dropna(subset=['ROI']).sort_values(by='ROI', ascending=False).head(20))\n",
    "print(\"=\"*50)\n"
   ]
  },
  {
   "cell_type": "markdown",
   "id": "cdc1c42e461967bc",
   "metadata": {},
   "source": [
    "### Salvar o Dataset Enriquecido"
   ]
  },
  {
   "cell_type": "code",
   "execution_count": 7,
   "id": "a1ff6ead4afa9a5",
   "metadata": {
    "ExecuteTime": {
     "end_time": "2025-09-06T19:23:28.172742Z",
     "start_time": "2025-09-06T19:23:28.157416Z"
    }
   },
   "outputs": [
    {
     "name": "stdout",
     "output_type": "stream",
     "text": [
      "Dataset final com dados de orçamento e ROI salvo com sucesso em: ../data/processed/imdb_com_roi.csv\n"
     ]
    }
   ],
   "source": [
    "# Definindo o caminho para a pasta de dados processados\n",
    "output_path = '../data/processed/imdb_com_roi.csv'\n",
    "\n",
    "# Salvando o DataFrame final como um novo arquivo CSV\n",
    "df_final.to_csv(output_path, index=False)\n",
    "\n",
    "print(f\"Dataset final com dados de orçamento e ROI salvo com sucesso em: {output_path}\")"
   ]
  }
 ],
 "metadata": {
  "kernelspec": {
   "display_name": ".venv",
   "language": "python",
   "name": "python3"
  },
  "language_info": {
   "codemirror_mode": {
    "name": "ipython",
    "version": 3
   },
   "file_extension": ".py",
   "mimetype": "text/x-python",
   "name": "python",
   "nbconvert_exporter": "python",
   "pygments_lexer": "ipython3",
   "version": "3.11.0"
  }
 },
 "nbformat": 4,
 "nbformat_minor": 5
}
