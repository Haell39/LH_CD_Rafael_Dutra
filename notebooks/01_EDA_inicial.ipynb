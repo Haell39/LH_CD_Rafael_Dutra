{
 "cells": [
  {
   "cell_type": "markdown",
   "id": "ce6105d4bed17760",
   "metadata": {},
   "source": [
    "### Projeto seguindo a metodologia CRISP-DM dividido em 6 etapas:\n",
    "##### 1. Entendimento do Negócio\n",
    "##### 2. Entendimento dos Dados\n",
    "##### 3. Preparação dos Dados\n",
    "##### 4. Modelagem\n",
    "##### 5. Avaliação\n",
    "##### 6. Implantação"
   ]
  },
  {
   "cell_type": "markdown",
   "id": "6cbc56ceb919d3d",
   "metadata": {},
   "source": [
    "## Fase 2: Entendimento dos Dados"
   ]
  },
  {
   "cell_type": "markdown",
   "id": "7d8b7db3cff0af48",
   "metadata": {},
   "source": [
    "### Importações de bibliotecas e carregamento dos dados\n"
   ]
  },
  {
   "cell_type": "code",
   "execution_count": 2,
   "id": "initial_id",
   "metadata": {
    "ExecuteTime": {
     "end_time": "2025-09-04T04:25:04.289512Z",
     "start_time": "2025-09-04T04:25:04.286107Z"
    },
    "collapsed": true
   },
   "outputs": [],
   "source": [
    "\n",
    "import pandas as pd\n",
    "import numpy as np\n",
    "import matplotlib.pyplot as plt\n",
    "import seaborn as sns\n",
    "import os"
   ]
  },
  {
   "cell_type": "code",
   "execution_count": 3,
   "id": "2bfa298bc30bd1e1",
   "metadata": {
    "ExecuteTime": {
     "end_time": "2025-09-02T23:24:08.225843Z",
     "start_time": "2025-09-02T23:24:08.204813Z"
    }
   },
   "outputs": [
    {
     "data": {
      "text/html": [
       "<div>\n",
       "<style scoped>\n",
       "    .dataframe tbody tr th:only-of-type {\n",
       "        vertical-align: middle;\n",
       "    }\n",
       "\n",
       "    .dataframe tbody tr th {\n",
       "        vertical-align: top;\n",
       "    }\n",
       "\n",
       "    .dataframe thead th {\n",
       "        text-align: right;\n",
       "    }\n",
       "</style>\n",
       "<table border=\"1\" class=\"dataframe\">\n",
       "  <thead>\n",
       "    <tr style=\"text-align: right;\">\n",
       "      <th></th>\n",
       "      <th>Unnamed: 0</th>\n",
       "      <th>Series_Title</th>\n",
       "      <th>Released_Year</th>\n",
       "      <th>Certificate</th>\n",
       "      <th>Runtime</th>\n",
       "      <th>Genre</th>\n",
       "      <th>IMDB_Rating</th>\n",
       "      <th>Overview</th>\n",
       "      <th>Meta_score</th>\n",
       "      <th>Director</th>\n",
       "      <th>Star1</th>\n",
       "      <th>Star2</th>\n",
       "      <th>Star3</th>\n",
       "      <th>Star4</th>\n",
       "      <th>No_of_Votes</th>\n",
       "      <th>Gross</th>\n",
       "    </tr>\n",
       "  </thead>\n",
       "  <tbody>\n",
       "    <tr>\n",
       "      <th>0</th>\n",
       "      <td>1</td>\n",
       "      <td>The Godfather</td>\n",
       "      <td>1972</td>\n",
       "      <td>A</td>\n",
       "      <td>175 min</td>\n",
       "      <td>Crime, Drama</td>\n",
       "      <td>9.2</td>\n",
       "      <td>An organized crime dynasty's aging patriarch t...</td>\n",
       "      <td>100.0</td>\n",
       "      <td>Francis Ford Coppola</td>\n",
       "      <td>Marlon Brando</td>\n",
       "      <td>Al Pacino</td>\n",
       "      <td>James Caan</td>\n",
       "      <td>Diane Keaton</td>\n",
       "      <td>1620367</td>\n",
       "      <td>134,966,411</td>\n",
       "    </tr>\n",
       "    <tr>\n",
       "      <th>1</th>\n",
       "      <td>2</td>\n",
       "      <td>The Dark Knight</td>\n",
       "      <td>2008</td>\n",
       "      <td>UA</td>\n",
       "      <td>152 min</td>\n",
       "      <td>Action, Crime, Drama</td>\n",
       "      <td>9.0</td>\n",
       "      <td>When the menace known as the Joker wreaks havo...</td>\n",
       "      <td>84.0</td>\n",
       "      <td>Christopher Nolan</td>\n",
       "      <td>Christian Bale</td>\n",
       "      <td>Heath Ledger</td>\n",
       "      <td>Aaron Eckhart</td>\n",
       "      <td>Michael Caine</td>\n",
       "      <td>2303232</td>\n",
       "      <td>534,858,444</td>\n",
       "    </tr>\n",
       "    <tr>\n",
       "      <th>2</th>\n",
       "      <td>3</td>\n",
       "      <td>The Godfather: Part II</td>\n",
       "      <td>1974</td>\n",
       "      <td>A</td>\n",
       "      <td>202 min</td>\n",
       "      <td>Crime, Drama</td>\n",
       "      <td>9.0</td>\n",
       "      <td>The early life and career of Vito Corleone in ...</td>\n",
       "      <td>90.0</td>\n",
       "      <td>Francis Ford Coppola</td>\n",
       "      <td>Al Pacino</td>\n",
       "      <td>Robert De Niro</td>\n",
       "      <td>Robert Duvall</td>\n",
       "      <td>Diane Keaton</td>\n",
       "      <td>1129952</td>\n",
       "      <td>57,300,000</td>\n",
       "    </tr>\n",
       "    <tr>\n",
       "      <th>3</th>\n",
       "      <td>4</td>\n",
       "      <td>12 Angry Men</td>\n",
       "      <td>1957</td>\n",
       "      <td>U</td>\n",
       "      <td>96 min</td>\n",
       "      <td>Crime, Drama</td>\n",
       "      <td>9.0</td>\n",
       "      <td>A jury holdout attempts to prevent a miscarria...</td>\n",
       "      <td>96.0</td>\n",
       "      <td>Sidney Lumet</td>\n",
       "      <td>Henry Fonda</td>\n",
       "      <td>Lee J. Cobb</td>\n",
       "      <td>Martin Balsam</td>\n",
       "      <td>John Fiedler</td>\n",
       "      <td>689845</td>\n",
       "      <td>4,360,000</td>\n",
       "    </tr>\n",
       "    <tr>\n",
       "      <th>4</th>\n",
       "      <td>5</td>\n",
       "      <td>The Lord of the Rings: The Return of the King</td>\n",
       "      <td>2003</td>\n",
       "      <td>U</td>\n",
       "      <td>201 min</td>\n",
       "      <td>Action, Adventure, Drama</td>\n",
       "      <td>8.9</td>\n",
       "      <td>Gandalf and Aragorn lead the World of Men agai...</td>\n",
       "      <td>94.0</td>\n",
       "      <td>Peter Jackson</td>\n",
       "      <td>Elijah Wood</td>\n",
       "      <td>Viggo Mortensen</td>\n",
       "      <td>Ian McKellen</td>\n",
       "      <td>Orlando Bloom</td>\n",
       "      <td>1642758</td>\n",
       "      <td>377,845,905</td>\n",
       "    </tr>\n",
       "  </tbody>\n",
       "</table>\n",
       "</div>"
      ],
      "text/plain": [
       "   Unnamed: 0                                   Series_Title Released_Year  \\\n",
       "0           1                                  The Godfather          1972   \n",
       "1           2                                The Dark Knight          2008   \n",
       "2           3                         The Godfather: Part II          1974   \n",
       "3           4                                   12 Angry Men          1957   \n",
       "4           5  The Lord of the Rings: The Return of the King          2003   \n",
       "\n",
       "  Certificate  Runtime                     Genre  IMDB_Rating  \\\n",
       "0           A  175 min              Crime, Drama          9.2   \n",
       "1          UA  152 min      Action, Crime, Drama          9.0   \n",
       "2           A  202 min              Crime, Drama          9.0   \n",
       "3           U   96 min              Crime, Drama          9.0   \n",
       "4           U  201 min  Action, Adventure, Drama          8.9   \n",
       "\n",
       "                                            Overview  Meta_score  \\\n",
       "0  An organized crime dynasty's aging patriarch t...       100.0   \n",
       "1  When the menace known as the Joker wreaks havo...        84.0   \n",
       "2  The early life and career of Vito Corleone in ...        90.0   \n",
       "3  A jury holdout attempts to prevent a miscarria...        96.0   \n",
       "4  Gandalf and Aragorn lead the World of Men agai...        94.0   \n",
       "\n",
       "               Director           Star1            Star2          Star3  \\\n",
       "0  Francis Ford Coppola   Marlon Brando        Al Pacino     James Caan   \n",
       "1     Christopher Nolan  Christian Bale     Heath Ledger  Aaron Eckhart   \n",
       "2  Francis Ford Coppola       Al Pacino   Robert De Niro  Robert Duvall   \n",
       "3          Sidney Lumet     Henry Fonda      Lee J. Cobb  Martin Balsam   \n",
       "4         Peter Jackson     Elijah Wood  Viggo Mortensen   Ian McKellen   \n",
       "\n",
       "           Star4  No_of_Votes        Gross  \n",
       "0   Diane Keaton      1620367  134,966,411  \n",
       "1  Michael Caine      2303232  534,858,444  \n",
       "2   Diane Keaton      1129952   57,300,000  \n",
       "3   John Fiedler       689845    4,360,000  \n",
       "4  Orlando Bloom      1642758  377,845,905  "
      ]
     },
     "execution_count": 3,
     "metadata": {},
     "output_type": "execute_result"
    }
   ],
   "source": [
    "file_path = '../data/raw/desafio_indicium_imdb.csv'\n",
    "df = pd.read_csv(file_path)\n",
    "df.head()"
   ]
  },
  {
   "cell_type": "markdown",
   "id": "e712905acef423ae",
   "metadata": {},
   "source": [
    "# Exploratory Data Analysis (EDA)"
   ]
  },
  {
   "cell_type": "markdown",
   "id": "a3056ec123b26c8b",
   "metadata": {},
   "source": [
    "### Estrutura e tipos dos dados"
   ]
  },
  {
   "cell_type": "code",
   "execution_count": 4,
   "id": "2904bf8d6fb0f141",
   "metadata": {
    "ExecuteTime": {
     "end_time": "2025-09-02T23:45:53.955260Z",
     "start_time": "2025-09-02T23:45:53.915175Z"
    }
   },
   "outputs": [
    {
     "name": "stdout",
     "output_type": "stream",
     "text": [
      "<class 'pandas.core.frame.DataFrame'>\n",
      "RangeIndex: 999 entries, 0 to 998\n",
      "Data columns (total 16 columns):\n",
      " #   Column         Non-Null Count  Dtype  \n",
      "---  ------         --------------  -----  \n",
      " 0   Unnamed: 0     999 non-null    int64  \n",
      " 1   Series_Title   999 non-null    object \n",
      " 2   Released_Year  999 non-null    object \n",
      " 3   Certificate    898 non-null    object \n",
      " 4   Runtime        999 non-null    object \n",
      " 5   Genre          999 non-null    object \n",
      " 6   IMDB_Rating    999 non-null    float64\n",
      " 7   Overview       999 non-null    object \n",
      " 8   Meta_score     842 non-null    float64\n",
      " 9   Director       999 non-null    object \n",
      " 10  Star1          999 non-null    object \n",
      " 11  Star2          999 non-null    object \n",
      " 12  Star3          999 non-null    object \n",
      " 13  Star4          999 non-null    object \n",
      " 14  No_of_Votes    999 non-null    int64  \n",
      " 15  Gross          830 non-null    object \n",
      "dtypes: float64(2), int64(2), object(12)\n",
      "memory usage: 125.0+ KB\n"
     ]
    }
   ],
   "source": [
    "# Informações gerais como tipos de dados, valores nulos, etc ...\n",
    "df.info()"
   ]
  },
  {
   "cell_type": "code",
   "execution_count": 5,
   "id": "919ee9f3961a0085",
   "metadata": {
    "ExecuteTime": {
     "end_time": "2025-09-02T23:46:09.187156Z",
     "start_time": "2025-09-02T23:46:09.166977Z"
    }
   },
   "outputs": [
    {
     "data": {
      "text/html": [
       "<div>\n",
       "<style scoped>\n",
       "    .dataframe tbody tr th:only-of-type {\n",
       "        vertical-align: middle;\n",
       "    }\n",
       "\n",
       "    .dataframe tbody tr th {\n",
       "        vertical-align: top;\n",
       "    }\n",
       "\n",
       "    .dataframe thead th {\n",
       "        text-align: right;\n",
       "    }\n",
       "</style>\n",
       "<table border=\"1\" class=\"dataframe\">\n",
       "  <thead>\n",
       "    <tr style=\"text-align: right;\">\n",
       "      <th></th>\n",
       "      <th>Unnamed: 0</th>\n",
       "      <th>IMDB_Rating</th>\n",
       "      <th>Meta_score</th>\n",
       "      <th>No_of_Votes</th>\n",
       "    </tr>\n",
       "  </thead>\n",
       "  <tbody>\n",
       "    <tr>\n",
       "      <th>count</th>\n",
       "      <td>999.000000</td>\n",
       "      <td>999.000000</td>\n",
       "      <td>842.000000</td>\n",
       "      <td>9.990000e+02</td>\n",
       "    </tr>\n",
       "    <tr>\n",
       "      <th>mean</th>\n",
       "      <td>500.000000</td>\n",
       "      <td>7.947948</td>\n",
       "      <td>77.969121</td>\n",
       "      <td>2.716214e+05</td>\n",
       "    </tr>\n",
       "    <tr>\n",
       "      <th>std</th>\n",
       "      <td>288.530761</td>\n",
       "      <td>0.272290</td>\n",
       "      <td>12.383257</td>\n",
       "      <td>3.209126e+05</td>\n",
       "    </tr>\n",
       "    <tr>\n",
       "      <th>min</th>\n",
       "      <td>1.000000</td>\n",
       "      <td>7.600000</td>\n",
       "      <td>28.000000</td>\n",
       "      <td>2.508800e+04</td>\n",
       "    </tr>\n",
       "    <tr>\n",
       "      <th>25%</th>\n",
       "      <td>250.500000</td>\n",
       "      <td>7.700000</td>\n",
       "      <td>70.000000</td>\n",
       "      <td>5.547150e+04</td>\n",
       "    </tr>\n",
       "    <tr>\n",
       "      <th>50%</th>\n",
       "      <td>500.000000</td>\n",
       "      <td>7.900000</td>\n",
       "      <td>79.000000</td>\n",
       "      <td>1.383560e+05</td>\n",
       "    </tr>\n",
       "    <tr>\n",
       "      <th>75%</th>\n",
       "      <td>749.500000</td>\n",
       "      <td>8.100000</td>\n",
       "      <td>87.000000</td>\n",
       "      <td>3.731675e+05</td>\n",
       "    </tr>\n",
       "    <tr>\n",
       "      <th>max</th>\n",
       "      <td>999.000000</td>\n",
       "      <td>9.200000</td>\n",
       "      <td>100.000000</td>\n",
       "      <td>2.303232e+06</td>\n",
       "    </tr>\n",
       "  </tbody>\n",
       "</table>\n",
       "</div>"
      ],
      "text/plain": [
       "       Unnamed: 0  IMDB_Rating  Meta_score   No_of_Votes\n",
       "count  999.000000   999.000000  842.000000  9.990000e+02\n",
       "mean   500.000000     7.947948   77.969121  2.716214e+05\n",
       "std    288.530761     0.272290   12.383257  3.209126e+05\n",
       "min      1.000000     7.600000   28.000000  2.508800e+04\n",
       "25%    250.500000     7.700000   70.000000  5.547150e+04\n",
       "50%    500.000000     7.900000   79.000000  1.383560e+05\n",
       "75%    749.500000     8.100000   87.000000  3.731675e+05\n",
       "max    999.000000     9.200000  100.000000  2.303232e+06"
      ]
     },
     "execution_count": 5,
     "metadata": {},
     "output_type": "execute_result"
    }
   ],
   "source": [
    "# Estatísticas descritivas --> colunas numéricas\n",
    "df.describe()"
   ]
  },
  {
   "cell_type": "code",
   "execution_count": 6,
   "id": "1df7b326817a61a",
   "metadata": {
    "ExecuteTime": {
     "end_time": "2025-09-02T23:46:36.867598Z",
     "start_time": "2025-09-02T23:46:36.861778Z"
    }
   },
   "outputs": [
    {
     "data": {
      "text/plain": [
       "Unnamed: 0         0\n",
       "Series_Title       0\n",
       "Released_Year      0\n",
       "Certificate      101\n",
       "Runtime            0\n",
       "Genre              0\n",
       "IMDB_Rating        0\n",
       "Overview           0\n",
       "Meta_score       157\n",
       "Director           0\n",
       "Star1              0\n",
       "Star2              0\n",
       "Star3              0\n",
       "Star4              0\n",
       "No_of_Votes        0\n",
       "Gross            169\n",
       "dtype: int64"
      ]
     },
     "execution_count": 6,
     "metadata": {},
     "output_type": "execute_result"
    }
   ],
   "source": [
    "# quantidade de valores nulos por coluna\n",
    "df.isnull().sum()"
   ]
  },
  {
   "cell_type": "code",
   "execution_count": 7,
   "id": "5d3ef168775eab66",
   "metadata": {
    "ExecuteTime": {
     "end_time": "2025-09-02T23:47:33.026406Z",
     "start_time": "2025-09-02T23:47:33.022408Z"
    }
   },
   "outputs": [
    {
     "name": "stdout",
     "output_type": "stream",
     "text": [
      "O dataset contém 999 linhas e 16 colunas.\n"
     ]
    }
   ],
   "source": [
    "print(f\"O dataset contém {df.shape[0]} linhas e {df.shape[1]} colunas.\")"
   ]
  },
  {
   "cell_type": "markdown",
   "id": "dbff2a95579c7e9a",
   "metadata": {},
   "source": [
    "### Análise exploratória inicial"
   ]
  },
  {
   "cell_type": "code",
   "execution_count": 8,
   "id": "e826baa8c411c95a",
   "metadata": {
    "ExecuteTime": {
     "end_time": "2025-09-02T23:48:46.517188Z",
     "start_time": "2025-09-02T23:48:46.509179Z"
    }
   },
   "outputs": [
    {
     "name": "stdout",
     "output_type": "stream",
     "text": [
      "Genre: 202 valores únicos\n",
      "Certificate: 16 valores únicos\n",
      "Director: 548 valores únicos\n"
     ]
    }
   ],
   "source": [
    "# verificando os valores unicos por coluna categórica\n",
    "for col in ['Genre', 'Certificate', 'Director']:\n",
    "    print(f\"{col}: {df[col].nunique()} valores únicos\")"
   ]
  },
  {
   "cell_type": "code",
   "execution_count": 9,
   "id": "9bb2122e667e498a",
   "metadata": {
    "ExecuteTime": {
     "end_time": "2025-09-02T23:58:27.242641Z",
     "start_time": "2025-09-02T23:58:27.018144Z"
    }
   },
   "outputs": [
    {
     "data": {
      "image/png": "[encoded data removed]",
      "text/plain": [
       "<Figure size 800x600 with 1 Axes>"
      ]
     },
     "metadata": {},
     "output_type": "display_data"
    }
   ],
   "source": [
    "# Distribuição das notas\n",
    "plt.figure(figsize=(8,6))\n",
    "df['IMDB_Rating'].hist(bins=20)\n",
    "plt.title(\"Distribuição das notas IMDB\")\n",
    "plt.xlabel(\"Nota\")\n",
    "plt.ylabel(\"Frequência\")\n",
    "plt.show()\n"
   ]
  },
  {
   "cell_type": "code",
   "execution_count": 10,
   "id": "438e822e7e37de20",
   "metadata": {
    "ExecuteTime": {
     "end_time": "2025-09-02T23:49:57.989499Z",
     "start_time": "2025-09-02T23:49:57.877390Z"
    }
   },
   "outputs": [
    {
     "data": {
      "text/plain": [
       "<Axes: >"
      ]
     },
     "execution_count": 10,
     "metadata": {},
     "output_type": "execute_result"
    },
    {
     "data": {
      "image/png": "[encoded data removed]",
      "text/plain": [
       "<Figure size 640x480 with 1 Axes>"
      ]
     },
     "metadata": {},
     "output_type": "display_data"
    }
   ],
   "source": [
    "# Distribuição do faturamento bruto (Gross)\n",
    "df['Gross'] = df['Gross'].astype(str).str.replace(',', '').astype(float)\n",
    "df['Gross'].hist(bins=20)"
   ]
  }
 ],
 "metadata": {
  "kernelspec": {
   "display_name": ".venv",
   "language": "python",
   "name": "python3"
  },
  "language_info": {
   "codemirror_mode": {
    "name": "ipython",
    "version": 3
   },
   "file_extension": ".py",
   "mimetype": "text/x-python",
   "name": "python",
   "nbconvert_exporter": "python",
   "pygments_lexer": "ipython3",
   "version": "3.11.0"
  }
 },
 "nbformat": 4,
 "nbformat_minor": 5
}
